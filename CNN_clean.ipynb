{
 "cells": [
  {
   "cell_type": "code",
   "execution_count": null,
   "metadata": {},
   "outputs": [],
   "source": [
    "import tensorflow as tf\n",
    "import matplotlib.pyplot as plt\n",
    "import numpy as np\n",
    "import pandas as pd\n",
    "\n",
    "from sklearn.preprocessing import StandardScaler\n",
    "from tensorflow.keras.layers import Conv1D, MaxPooling1D, Dropout, LSTM, Flatten, Dense"
   ]
  },
  {
   "cell_type": "code",
   "execution_count": null,
   "metadata": {},
   "outputs": [],
   "source": [
    "df_train = pd.read_csv('ECG_Data_Lead_csv/11_labels/correct_train.csv')\n",
    "df_val = pd.read_csv('ECG_Data_Lead_csv/11_labels/correct_val.csv')\n",
    "df_test = pd.read_csv('ECG_Data_Lead_csv/11_labels/correct_test.csv')"
   ]
  },
  {
   "cell_type": "code",
   "execution_count": null,
   "metadata": {},
   "outputs": [],
   "source": [
    "print(f\"Train shape: {df_train.shape}, Val shape: {df_val.shape}, Test shape: {df_test.shape}\")"
   ]
  },
  {
   "cell_type": "code",
   "execution_count": null,
   "metadata": {},
   "outputs": [],
   "source": [
    "X_train = df_train.iloc[:, :700].values\n",
    "X_train_norm = X_train / np.max(np.abs(X_train))\n",
    "X_train_norm = X_train_norm.reshape(X_train_norm.shape[0], 700, 1)\n",
    "y_train = df_train['label'].values\n",
    "\n",
    "X_val = df_val.iloc[:, :700].values\n",
    "X_val_norm = X_val / np.max(np.abs(X_train))\n",
    "X_val_norm = X_val_norm.reshape(X_val_norm.shape[0], 700, 1)\n",
    "y_val = df_val['label'].values\n",
    "\n",
    "\n",
    "X_test = df_test.iloc[:, :700].values\n",
    "X_test_norm = X_test / np.max(np.abs(X_train))\n",
    "X_test_norm = X_test_norm.reshape(X_test_norm.shape[0], 700, 1)\n",
    "y_test = df_test['label'].values"
   ]
  },
  {
   "cell_type": "code",
   "execution_count": null,
   "metadata": {},
   "outputs": [],
   "source": [
    "scaler = StandardScaler()\n",
    "\n",
    "X_train_norm = scaler.fit_transform(X_train)\n",
    "\n",
    "X_val_norm = scaler.transform(X_val)\n",
    "X_test_norm = scaler.transform(X_test)"
   ]
  },
  {
   "cell_type": "code",
   "execution_count": null,
   "metadata": {},
   "outputs": [],
   "source": [
    "print(f\"X_train_norm max: {X_train_norm.max()}, min: {X_train_norm.min()}, mean: {np.mean(X_train_norm)}, std: {np.std(X_train_norm)}\")\n",
    "print(f\"X_val_norm max: {X_val_norm.max()}, min: {X_val_norm.min()}, mean: {np.mean(X_val_norm)}, std: {np.std(X_val_norm)}\")\n",
    "print(f\"X_test_norm max: {X_test_norm.max()}, min: {X_test_norm.min()}, mean: {np.mean(X_test_norm)}, std: {np.std(X_test_norm)}\")\n"
   ]
  },
  {
   "cell_type": "code",
   "execution_count": null,
   "metadata": {},
   "outputs": [],
   "source": [
    "model = tf.keras.models.Sequential([\n",
    "    Conv1D(filters=64, kernel_size=(5), activation='relu', input_shape=(700,1)),\n",
    "    MaxPooling1D(pool_size=2),\n",
    "    Dropout(0.2),\n",
    "\n",
    "    Conv1D(filters=64, kernel_size=(3), activation='relu'), \n",
    "    LSTM(units=64, return_sequences=True),\n",
    "    Flatten(),\n",
    "    \n",
    "    Dense(64, activation='relu'),\n",
    "    Dense(11, activation='softmax')\n",
    "])\n"
   ]
  },
  {
   "cell_type": "code",
   "execution_count": null,
   "metadata": {},
   "outputs": [],
   "source": [
    "model.compile(optimizer='adam', loss='sparse_categorical_crossentropy', metrics=['accuracy'])"
   ]
  },
  {
   "cell_type": "code",
   "execution_count": null,
   "metadata": {},
   "outputs": [],
   "source": [
    "history = model.fit(X_train_norm, y_train, epochs=10, validation_data=(X_val_norm, y_val))"
   ]
  }
 ],
 "metadata": {
  "kernelspec": {
   "display_name": ".venv",
   "language": "python",
   "name": "python3"
  },
  "language_info": {
   "codemirror_mode": {
    "name": "ipython",
    "version": 3
   },
   "file_extension": ".py",
   "mimetype": "text/x-python",
   "name": "python",
   "nbconvert_exporter": "python",
   "pygments_lexer": "ipython3",
   "version": "3.10.12"
  }
 },
 "nbformat": 4,
 "nbformat_minor": 2
}
