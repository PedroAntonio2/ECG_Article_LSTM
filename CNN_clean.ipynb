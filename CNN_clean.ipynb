{
 "cells": [
  {
   "cell_type": "code",
   "execution_count": 6,
   "metadata": {},
   "outputs": [],
   "source": [
    "import tensorflow as tf\n",
    "import matplotlib.pyplot as plt\n",
    "import numpy as np\n",
    "import pandas as pd\n",
    "\n",
    "from tensorflow.keras.layers import Conv1D, MaxPooling1D, Dropout, LSTM, Flatten, Dense"
   ]
  },
  {
   "cell_type": "code",
   "execution_count": 7,
   "metadata": {},
   "outputs": [],
   "source": [
    "df_train = pd.read_csv('ECG_Data_Lead_csv/11_labels/correct_train.csv')\n",
    "df_val = pd.read_csv('ECG_Data_Lead_csv/11_labels/correct_val.csv')\n",
    "df_test = pd.read_csv('ECG_Data_Lead_csv/11_labels/correct_test.csv')"
   ]
  },
  {
   "cell_type": "code",
   "execution_count": 8,
   "metadata": {},
   "outputs": [
    {
     "name": "stdout",
     "output_type": "stream",
     "text": [
      "Train shape: (244815, 704), Val shape: (49845, 704), Test shape: (57570, 704)\n"
     ]
    }
   ],
   "source": [
    "print(f\"Train shape: {df_train.shape}, Val shape: {df_val.shape}, Test shape: {df_test.shape}\")"
   ]
  },
  {
   "cell_type": "code",
   "execution_count": 22,
   "metadata": {},
   "outputs": [],
   "source": [
    "X_train = df_train.iloc[:, :700].values\n",
    "X_train_norm = X_train / np.max(np.abs(X_train))\n",
    "X_train_norm = X_train_norm.reshape(X_train_norm.shape[0], 700, 1)\n",
    "y_train = df_train['label'].values\n",
    "\n",
    "X_val = df_val.iloc[:, :700].values\n",
    "X_val_norm = X_val / np.max(np.abs(X_val))\n",
    "X_val_norm = X_val_norm.reshape(X_val_norm.shape[0], 700, 1)\n",
    "y_val = df_val['label'].values\n",
    "\n",
    "\n",
    "X_test = df_test.iloc[:, :700].values\n",
    "X_test_norm = X_test / np.max(np.abs(X_test))\n",
    "X_test_norm = X_test_norm.reshape(X_test_norm.shape[0], 700, 1)\n",
    "y_test = df_test['label'].values"
   ]
  },
  {
   "cell_type": "code",
   "execution_count": 16,
   "metadata": {},
   "outputs": [
    {
     "name": "stdout",
     "output_type": "stream",
     "text": [
      "X_train_norm max: 1.0, min: -0.658358472135445, mean: 0.0004979533791585997, std: 0.034874432014727244\n",
      "X_val_norm max: 1.0, min: -0.9195078517462585, mean: 0.0009145672218466219, std: 0.06210689033871398\n",
      "X_test_norm max: 0.7604049972933498, min: -1.0, mean: 0.00028279526040826816, std: 0.057377470077300555\n"
     ]
    }
   ],
   "source": [
    "print(f\"X_train_norm max: {X_train_norm.max()}, min: {X_train_norm.min()}, mean: {np.mean(X_train_norm)}, std: {np.std(X_train_norm)}\")\n",
    "print(f\"X_val_norm max: {X_val_norm.max()}, min: {X_val_norm.min()}, mean: {np.mean(X_val_norm)}, std: {np.std(X_val_norm)}\")\n",
    "print(f\"X_test_norm max: {X_test_norm.max()}, min: {X_test_norm.min()}, mean: {np.mean(X_test_norm)}, std: {np.std(X_test_norm)}\")\n"
   ]
  },
  {
   "cell_type": "code",
   "execution_count": null,
   "metadata": {},
   "outputs": [
    {
     "name": "stderr",
     "output_type": "stream",
     "text": [
      "I0000 00:00:1740175983.853404   65054 gpu_device.cc:2022] Created device /job:localhost/replica:0/task:0/device:GPU:0 with 5046 MB memory:  -> device: 0, name: NVIDIA GeForce GTX 1060 6GB, pci bus id: 0000:01:00.0, compute capability: 6.1\n"
     ]
    }
   ],
   "source": [
    "model = tf.keras.models.Sequential([\n",
    "    Conv1D(filters=64, kernel_size=(5), activation='relu', input_shape=(700,1)),\n",
    "    MaxPooling1D(pool_size=2),\n",
    "    Dropout(0.2),\n",
    "\n",
    "    Conv1D(filters=64, kernel_size=(3), activation='relu'), \n",
    "    LSTM(units=64, return_sequences=True),\n",
    "    Flatten(),\n",
    "    Dense(64, activation='relu'),\n",
    "    Dense(11, activation='softmax')\n",
    "])\n"
   ]
  },
  {
   "cell_type": "code",
   "execution_count": 17,
   "metadata": {},
   "outputs": [],
   "source": [
    "model.compile(optimizer='adam', loss='sparse_categorical_crossentropy', metrics=['accuracy'])"
   ]
  },
  {
   "cell_type": "code",
   "execution_count": null,
   "metadata": {},
   "outputs": [
    {
     "name": "stderr",
     "output_type": "stream",
     "text": [
      "2025-02-21 19:32:51.595967: W external/local_xla/xla/tsl/framework/cpu_allocator_impl.cc:83] Allocation of 685482000 exceeds 10% of free system memory.\n",
      "2025-02-21 19:32:52.446174: W external/local_xla/xla/tsl/framework/cpu_allocator_impl.cc:83] Allocation of 685482000 exceeds 10% of free system memory.\n"
     ]
    },
    {
     "name": "stdout",
     "output_type": "stream",
     "text": [
      "Epoch 1/10\n"
     ]
    },
    {
     "name": "stderr",
     "output_type": "stream",
     "text": [
      "I0000 00:00:1740177174.893279   65577 cuda_dnn.cc:529] Loaded cuDNN version 90300\n"
     ]
    },
    {
     "name": "stdout",
     "output_type": "stream",
     "text": [
      "\u001b[1m1714/7651\u001b[0m \u001b[32m━━━━\u001b[0m\u001b[37m━━━━━━━━━━━━━━━━\u001b[0m \u001b[1m1:28\u001b[0m 15ms/step - accuracy: 0.5130 - loss: 1.3413"
     ]
    }
   ],
   "source": [
    "history = model.fit(X_train_norm, y_train, epochs=10)"
   ]
  }
 ],
 "metadata": {
  "kernelspec": {
   "display_name": ".venv",
   "language": "python",
   "name": "python3"
  },
  "language_info": {
   "codemirror_mode": {
    "name": "ipython",
    "version": 3
   },
   "file_extension": ".py",
   "mimetype": "text/x-python",
   "name": "python",
   "nbconvert_exporter": "python",
   "pygments_lexer": "ipython3",
   "version": "3.10.12"
  }
 },
 "nbformat": 4,
 "nbformat_minor": 2
}
